{
  "nbformat": 4,
  "nbformat_minor": 0,
  "metadata": {
    "colab": {
      "provenance": [],
      "authorship_tag": "ABX9TyMFmaLWSfOcUD7XZ8b4E1fw",
      "include_colab_link": true
    },
    "kernelspec": {
      "name": "python3",
      "display_name": "Python 3"
    },
    "language_info": {
      "name": "python"
    }
  },
  "cells": [
    {
      "cell_type": "markdown",
      "metadata": {
        "id": "view-in-github",
        "colab_type": "text"
      },
      "source": [
        "<a href=\"https://colab.research.google.com/github/Pedro1697/test_connection/blob/main/Connection_test.ipynb\" target=\"_parent\"><img src=\"https://colab.research.google.com/assets/colab-badge.svg\" alt=\"Open In Colab\"/></a>"
      ]
    },
    {
      "cell_type": "code",
      "execution_count": 1,
      "metadata": {
        "id": "DGIYVsRF6HqQ"
      },
      "outputs": [],
      "source": [
        "## Connection test"
      ]
    },
    {
      "cell_type": "code",
      "source": [
        "x= 10"
      ],
      "metadata": {
        "id": "VVE-Q2Nw68LY"
      },
      "execution_count": 2,
      "outputs": []
    }
  ]
}